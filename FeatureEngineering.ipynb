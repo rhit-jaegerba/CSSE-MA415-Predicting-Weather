{
 "cells": [
  {
   "cell_type": "code",
   "execution_count": 152,
   "id": "82b85124",
   "metadata": {},
   "outputs": [],
   "source": [
    "# Import necessary libraries\n",
    "import pandas as pd\n",
    "import numpy as np\n",
    "from sklearn.model_selection import train_test_split\n",
    "from sklearn.neighbors import KNeighborsClassifier\n",
    "from sklearn.decomposition import PCA\n",
    "from sklearn.model_selection import GridSearchCV\n",
    "import time\n",
    "import matplotlib.pyplot as plt\n",
    "from sklearn.ensemble import RandomForestRegressor, RandomForestClassifier\n",
    "from sklearn.tree import plot_tree\n",
    "from sklearn.model_selection import GridSearchCV"
   ]
  },
  {
   "cell_type": "code",
   "execution_count": 153,
   "id": "e8b48656",
   "metadata": {},
   "outputs": [
    {
     "data": {
      "text/plain": [
       "(13200, 11)"
      ]
     },
     "execution_count": 153,
     "metadata": {},
     "output_type": "execute_result"
    }
   ],
   "source": [
    "# Import dataset\n",
    "df = pd.read_csv('weather_classification_data.csv')\n",
    "df.shape"
   ]
  },
  {
   "cell_type": "code",
   "execution_count": 154,
   "id": "6859a717",
   "metadata": {},
   "outputs": [
    {
     "data": {
      "text/html": [
       "<div>\n",
       "<style scoped>\n",
       "    .dataframe tbody tr th:only-of-type {\n",
       "        vertical-align: middle;\n",
       "    }\n",
       "\n",
       "    .dataframe tbody tr th {\n",
       "        vertical-align: top;\n",
       "    }\n",
       "\n",
       "    .dataframe thead th {\n",
       "        text-align: right;\n",
       "    }\n",
       "</style>\n",
       "<table border=\"1\" class=\"dataframe\">\n",
       "  <thead>\n",
       "    <tr style=\"text-align: right;\">\n",
       "      <th></th>\n",
       "      <th>Temperature</th>\n",
       "      <th>Humidity</th>\n",
       "      <th>Wind Speed</th>\n",
       "      <th>Precipitation (%)</th>\n",
       "      <th>Cloud Cover</th>\n",
       "      <th>Atmospheric Pressure</th>\n",
       "      <th>UV Index</th>\n",
       "      <th>Season</th>\n",
       "      <th>Visibility (km)</th>\n",
       "      <th>Location</th>\n",
       "      <th>Weather Type</th>\n",
       "    </tr>\n",
       "  </thead>\n",
       "  <tbody>\n",
       "    <tr>\n",
       "      <th>0</th>\n",
       "      <td>14.0</td>\n",
       "      <td>73</td>\n",
       "      <td>9.5</td>\n",
       "      <td>82.0</td>\n",
       "      <td>partly cloudy</td>\n",
       "      <td>1010.82</td>\n",
       "      <td>2</td>\n",
       "      <td>Winter</td>\n",
       "      <td>3.5</td>\n",
       "      <td>inland</td>\n",
       "      <td>Rainy</td>\n",
       "    </tr>\n",
       "    <tr>\n",
       "      <th>1</th>\n",
       "      <td>39.0</td>\n",
       "      <td>96</td>\n",
       "      <td>8.5</td>\n",
       "      <td>71.0</td>\n",
       "      <td>partly cloudy</td>\n",
       "      <td>1011.43</td>\n",
       "      <td>7</td>\n",
       "      <td>Spring</td>\n",
       "      <td>10.0</td>\n",
       "      <td>inland</td>\n",
       "      <td>Cloudy</td>\n",
       "    </tr>\n",
       "    <tr>\n",
       "      <th>2</th>\n",
       "      <td>30.0</td>\n",
       "      <td>64</td>\n",
       "      <td>7.0</td>\n",
       "      <td>16.0</td>\n",
       "      <td>clear</td>\n",
       "      <td>1018.72</td>\n",
       "      <td>5</td>\n",
       "      <td>Spring</td>\n",
       "      <td>5.5</td>\n",
       "      <td>mountain</td>\n",
       "      <td>Sunny</td>\n",
       "    </tr>\n",
       "    <tr>\n",
       "      <th>3</th>\n",
       "      <td>38.0</td>\n",
       "      <td>83</td>\n",
       "      <td>1.5</td>\n",
       "      <td>82.0</td>\n",
       "      <td>clear</td>\n",
       "      <td>1026.25</td>\n",
       "      <td>7</td>\n",
       "      <td>Spring</td>\n",
       "      <td>1.0</td>\n",
       "      <td>coastal</td>\n",
       "      <td>Sunny</td>\n",
       "    </tr>\n",
       "    <tr>\n",
       "      <th>4</th>\n",
       "      <td>27.0</td>\n",
       "      <td>74</td>\n",
       "      <td>17.0</td>\n",
       "      <td>66.0</td>\n",
       "      <td>overcast</td>\n",
       "      <td>990.67</td>\n",
       "      <td>1</td>\n",
       "      <td>Winter</td>\n",
       "      <td>2.5</td>\n",
       "      <td>mountain</td>\n",
       "      <td>Rainy</td>\n",
       "    </tr>\n",
       "  </tbody>\n",
       "</table>\n",
       "</div>"
      ],
      "text/plain": [
       "   Temperature  Humidity  Wind Speed  Precipitation (%)    Cloud Cover  \\\n",
       "0         14.0        73         9.5               82.0  partly cloudy   \n",
       "1         39.0        96         8.5               71.0  partly cloudy   \n",
       "2         30.0        64         7.0               16.0          clear   \n",
       "3         38.0        83         1.5               82.0          clear   \n",
       "4         27.0        74        17.0               66.0       overcast   \n",
       "\n",
       "   Atmospheric Pressure  UV Index  Season  Visibility (km)  Location  \\\n",
       "0               1010.82         2  Winter              3.5    inland   \n",
       "1               1011.43         7  Spring             10.0    inland   \n",
       "2               1018.72         5  Spring              5.5  mountain   \n",
       "3               1026.25         7  Spring              1.0   coastal   \n",
       "4                990.67         1  Winter              2.5  mountain   \n",
       "\n",
       "  Weather Type  \n",
       "0        Rainy  \n",
       "1       Cloudy  \n",
       "2        Sunny  \n",
       "3        Sunny  \n",
       "4        Rainy  "
      ]
     },
     "execution_count": 154,
     "metadata": {},
     "output_type": "execute_result"
    }
   ],
   "source": [
    "# Display the first 5 rows of the dataset\n",
    "df.head()"
   ]
  },
  {
   "cell_type": "code",
   "execution_count": 155,
   "id": "79c11f7f",
   "metadata": {},
   "outputs": [
    {
     "data": {
      "text/plain": [
       "Temperature                      14.0\n",
       "Humidity                           73\n",
       "Wind Speed                        9.5\n",
       "Precipitation (%)                82.0\n",
       "Cloud Cover             partly cloudy\n",
       "Atmospheric Pressure          1010.82\n",
       "UV Index                            2\n",
       "Season                         Winter\n",
       "Visibility (km)                   3.5\n",
       "Location                       inland\n",
       "Weather Type                    Rainy\n",
       "Name: 0, dtype: object"
      ]
     },
     "execution_count": 155,
     "metadata": {},
     "output_type": "execute_result"
    }
   ],
   "source": [
    "df.loc[0]"
   ]
  },
  {
   "cell_type": "code",
   "execution_count": 156,
   "id": "6c7f6f65",
   "metadata": {},
   "outputs": [],
   "source": [
    "X = df.drop(['Weather Type'], axis=1)\n",
    "y = df['Weather Type']\n",
    "\n",
    "X_number = X.select_dtypes(include='number') \n",
    "X_categorical = X.select_dtypes(exclude='number')"
   ]
  },
  {
   "cell_type": "code",
   "execution_count": 157,
   "id": "750429c7",
   "metadata": {},
   "outputs": [],
   "source": [
    "X_number = (X_number - X_number.mean()) / X_number.std(ddof=0) #  Standardization\n",
    "X_categorical = pd.get_dummies(X_categorical, dtype='int') # One-hot encoding"
   ]
  },
  {
   "cell_type": "code",
   "execution_count": 158,
   "id": "e97be016",
   "metadata": {},
   "outputs": [
    {
     "data": {
      "text/html": [
       "<div>\n",
       "<style scoped>\n",
       "    .dataframe tbody tr th:only-of-type {\n",
       "        vertical-align: middle;\n",
       "    }\n",
       "\n",
       "    .dataframe tbody tr th {\n",
       "        vertical-align: top;\n",
       "    }\n",
       "\n",
       "    .dataframe thead th {\n",
       "        text-align: right;\n",
       "    }\n",
       "</style>\n",
       "<table border=\"1\" class=\"dataframe\">\n",
       "  <thead>\n",
       "    <tr style=\"text-align: right;\">\n",
       "      <th></th>\n",
       "      <th>Temperature</th>\n",
       "      <th>Humidity</th>\n",
       "      <th>Wind Speed</th>\n",
       "      <th>Precipitation (%)</th>\n",
       "      <th>Atmospheric Pressure</th>\n",
       "      <th>UV Index</th>\n",
       "      <th>Visibility (km)</th>\n",
       "      <th>Cloud Cover_clear</th>\n",
       "      <th>Cloud Cover_cloudy</th>\n",
       "      <th>Cloud Cover_overcast</th>\n",
       "      <th>Cloud Cover_partly cloudy</th>\n",
       "      <th>Season_Autumn</th>\n",
       "      <th>Season_Spring</th>\n",
       "      <th>Season_Summer</th>\n",
       "      <th>Season_Winter</th>\n",
       "      <th>Location_coastal</th>\n",
       "      <th>Location_inland</th>\n",
       "      <th>Location_mountain</th>\n",
       "    </tr>\n",
       "  </thead>\n",
       "  <tbody>\n",
       "    <tr>\n",
       "      <th>0</th>\n",
       "      <td>-0.294931</td>\n",
       "      <td>0.212404</td>\n",
       "      <td>-0.048086</td>\n",
       "      <td>0.887629</td>\n",
       "      <td>0.134203</td>\n",
       "      <td>-0.520104</td>\n",
       "      <td>-0.582231</td>\n",
       "      <td>0</td>\n",
       "      <td>0</td>\n",
       "      <td>0</td>\n",
       "      <td>1</td>\n",
       "      <td>0</td>\n",
       "      <td>0</td>\n",
       "      <td>0</td>\n",
       "      <td>1</td>\n",
       "      <td>0</td>\n",
       "      <td>1</td>\n",
       "      <td>0</td>\n",
       "    </tr>\n",
       "    <tr>\n",
       "      <th>1</th>\n",
       "      <td>1.143035</td>\n",
       "      <td>1.351385</td>\n",
       "      <td>-0.192836</td>\n",
       "      <td>0.543291</td>\n",
       "      <td>0.150602</td>\n",
       "      <td>0.776424</td>\n",
       "      <td>1.345768</td>\n",
       "      <td>0</td>\n",
       "      <td>0</td>\n",
       "      <td>0</td>\n",
       "      <td>1</td>\n",
       "      <td>0</td>\n",
       "      <td>1</td>\n",
       "      <td>0</td>\n",
       "      <td>0</td>\n",
       "      <td>0</td>\n",
       "      <td>1</td>\n",
       "      <td>0</td>\n",
       "    </tr>\n",
       "    <tr>\n",
       "      <th>2</th>\n",
       "      <td>0.625367</td>\n",
       "      <td>-0.233285</td>\n",
       "      <td>-0.409962</td>\n",
       "      <td>-1.178401</td>\n",
       "      <td>0.346579</td>\n",
       "      <td>0.257813</td>\n",
       "      <td>0.010999</td>\n",
       "      <td>1</td>\n",
       "      <td>0</td>\n",
       "      <td>0</td>\n",
       "      <td>0</td>\n",
       "      <td>0</td>\n",
       "      <td>1</td>\n",
       "      <td>0</td>\n",
       "      <td>0</td>\n",
       "      <td>0</td>\n",
       "      <td>0</td>\n",
       "      <td>1</td>\n",
       "    </tr>\n",
       "    <tr>\n",
       "      <th>3</th>\n",
       "      <td>1.085516</td>\n",
       "      <td>0.707613</td>\n",
       "      <td>-1.206089</td>\n",
       "      <td>0.887629</td>\n",
       "      <td>0.549008</td>\n",
       "      <td>0.776424</td>\n",
       "      <td>-1.323769</td>\n",
       "      <td>1</td>\n",
       "      <td>0</td>\n",
       "      <td>0</td>\n",
       "      <td>0</td>\n",
       "      <td>0</td>\n",
       "      <td>1</td>\n",
       "      <td>0</td>\n",
       "      <td>0</td>\n",
       "      <td>1</td>\n",
       "      <td>0</td>\n",
       "      <td>0</td>\n",
       "    </tr>\n",
       "    <tr>\n",
       "      <th>4</th>\n",
       "      <td>0.452811</td>\n",
       "      <td>0.261924</td>\n",
       "      <td>1.037543</td>\n",
       "      <td>0.386773</td>\n",
       "      <td>-0.407490</td>\n",
       "      <td>-0.779410</td>\n",
       "      <td>-0.878846</td>\n",
       "      <td>0</td>\n",
       "      <td>0</td>\n",
       "      <td>1</td>\n",
       "      <td>0</td>\n",
       "      <td>0</td>\n",
       "      <td>0</td>\n",
       "      <td>0</td>\n",
       "      <td>1</td>\n",
       "      <td>0</td>\n",
       "      <td>0</td>\n",
       "      <td>1</td>\n",
       "    </tr>\n",
       "  </tbody>\n",
       "</table>\n",
       "</div>"
      ],
      "text/plain": [
       "   Temperature  Humidity  Wind Speed  Precipitation (%)  Atmospheric Pressure  \\\n",
       "0    -0.294931  0.212404   -0.048086           0.887629              0.134203   \n",
       "1     1.143035  1.351385   -0.192836           0.543291              0.150602   \n",
       "2     0.625367 -0.233285   -0.409962          -1.178401              0.346579   \n",
       "3     1.085516  0.707613   -1.206089           0.887629              0.549008   \n",
       "4     0.452811  0.261924    1.037543           0.386773             -0.407490   \n",
       "\n",
       "   UV Index  Visibility (km)  Cloud Cover_clear  Cloud Cover_cloudy  \\\n",
       "0 -0.520104        -0.582231                  0                   0   \n",
       "1  0.776424         1.345768                  0                   0   \n",
       "2  0.257813         0.010999                  1                   0   \n",
       "3  0.776424        -1.323769                  1                   0   \n",
       "4 -0.779410        -0.878846                  0                   0   \n",
       "\n",
       "   Cloud Cover_overcast  Cloud Cover_partly cloudy  Season_Autumn  \\\n",
       "0                     0                          1              0   \n",
       "1                     0                          1              0   \n",
       "2                     0                          0              0   \n",
       "3                     0                          0              0   \n",
       "4                     1                          0              0   \n",
       "\n",
       "   Season_Spring  Season_Summer  Season_Winter  Location_coastal  \\\n",
       "0              0              0              1                 0   \n",
       "1              1              0              0                 0   \n",
       "2              1              0              0                 0   \n",
       "3              1              0              0                 1   \n",
       "4              0              0              1                 0   \n",
       "\n",
       "   Location_inland  Location_mountain  \n",
       "0                1                  0  \n",
       "1                1                  0  \n",
       "2                0                  1  \n",
       "3                0                  0  \n",
       "4                0                  1  "
      ]
     },
     "execution_count": 158,
     "metadata": {},
     "output_type": "execute_result"
    }
   ],
   "source": [
    "X = pd.concat([X_number,X_categorical],axis=1)\n",
    "X.head()"
   ]
  },
  {
   "cell_type": "code",
   "execution_count": 159,
   "id": "8891cfda",
   "metadata": {},
   "outputs": [],
   "source": [
    "df = pd.concat([X,y], axis=1)"
   ]
  },
  {
   "cell_type": "markdown",
   "id": "52e9eb86",
   "metadata": {},
   "source": [
    "#### Dimensionality Reduction with PCA"
   ]
  },
  {
   "cell_type": "code",
   "execution_count": 160,
   "id": "7c71e5f2",
   "metadata": {},
   "outputs": [],
   "source": [
    "# Split the data into training and testing sets\n",
    "X_train, X_test, y_train, y_test = train_test_split(X, y, test_size=0.2, random_state=42)\n"
   ]
  },
  {
   "cell_type": "code",
   "execution_count": 161,
   "id": "c08904d9",
   "metadata": {},
   "outputs": [
    {
     "name": "stdout",
     "output_type": "stream",
     "text": [
      "number of components 18\n"
     ]
    }
   ],
   "source": [
    "n_comp = X_train.shape[1]\n",
    "print('number of components',n_comp)"
   ]
  },
  {
   "cell_type": "code",
   "execution_count": 162,
   "id": "1ef338b7",
   "metadata": {},
   "outputs": [
    {
     "data": {
      "text/plain": [
       "['PC-1',\n",
       " 'PC-2',\n",
       " 'PC-3',\n",
       " 'PC-4',\n",
       " 'PC-5',\n",
       " 'PC-6',\n",
       " 'PC-7',\n",
       " 'PC-8',\n",
       " 'PC-9',\n",
       " 'PC-10',\n",
       " 'PC-11',\n",
       " 'PC-12',\n",
       " 'PC-13',\n",
       " 'PC-14',\n",
       " 'PC-15',\n",
       " 'PC-16',\n",
       " 'PC-17',\n",
       " 'PC-18']"
      ]
     },
     "execution_count": 162,
     "metadata": {},
     "output_type": "execute_result"
    }
   ],
   "source": [
    "# create column names\n",
    "cols = ['PC-'+str(i+1) for i in range(n_comp)]\n",
    "cols"
   ]
  },
  {
   "cell_type": "code",
   "execution_count": 163,
   "id": "555d3f5f",
   "metadata": {},
   "outputs": [
    {
     "name": "stdout",
     "output_type": "stream",
     "text": [
      "PC-1     0.33\n",
      "PC-2     0.14\n",
      "PC-3     0.10\n",
      "PC-4     0.08\n",
      "PC-5     0.06\n",
      "PC-6     0.06\n",
      "PC-7     0.04\n",
      "PC-8     0.04\n",
      "PC-9     0.04\n",
      "PC-10    0.03\n",
      "PC-11    0.03\n",
      "PC-12    0.02\n",
      "PC-13    0.02\n",
      "PC-14    0.01\n",
      "PC-15    0.00\n",
      "PC-16    0.00\n",
      "PC-17    0.00\n",
      "PC-18    0.00\n",
      "dtype: float64\n"
     ]
    },
    {
     "data": {
      "text/plain": [
       "<Axes: title={'center': 'PVE'}>"
      ]
     },
     "execution_count": 163,
     "metadata": {},
     "output_type": "execute_result"
    },
    {
     "data": {
      "image/png": "[encoded data removed]",
      "text/plain": [
       "<Figure size 640x480 with 1 Axes>"
      ]
     },
     "metadata": {},
     "output_type": "display_data"
    }
   ],
   "source": [
    "# compute principal components and PVE\n",
    "pca = PCA(n_components=n_comp)\n",
    "pca.fit(X_train)\n",
    "PVE = pca.explained_variance_ratio_\n",
    "PVE = pd.Series(PVE,index=cols)\n",
    "print(PVE.round(2))\n",
    "PVE.sort_values().tail(50).plot.barh(color='cyan',title='PVE')"
   ]
  },
  {
   "cell_type": "code",
   "execution_count": 164,
   "id": "eda6ab3e",
   "metadata": {},
   "outputs": [
    {
     "name": "stdout",
     "output_type": "stream",
     "text": [
      "Proportion of total variation explained by the first principal component: 0.33\n"
     ]
    }
   ],
   "source": [
    "print(f\"Proportion of total variation explained by the first principal component: {PVE['PC-1']:.2f}\")"
   ]
  },
  {
   "cell_type": "code",
   "execution_count": 165,
   "id": "d1487c18",
   "metadata": {},
   "outputs": [
    {
     "name": "stdout",
     "output_type": "stream",
     "text": [
      "Number of components needed to explain 50% of the variance: PC-3\n"
     ]
    }
   ],
   "source": [
    "# Cumulative explained variance\n",
    "cumulative_PVE = PVE.cumsum()\n",
    "\n",
    "# Find the number of components needed to explain 50% of the variance\n",
    "threshold = 0.50\n",
    "n_components_needed = (cumulative_PVE >= threshold).idxmax()\n",
    "\n",
    "print(f\"Number of components needed to explain {threshold * 100:.0f}% of the variance: {n_components_needed}\")"
   ]
  },
  {
   "cell_type": "code",
   "execution_count": 166,
   "id": "68e53463",
   "metadata": {},
   "outputs": [
    {
     "data": {
      "image/png": "[encoded data removed]",
      "text/plain": [
       "<Figure size 640x480 with 1 Axes>"
      ]
     },
     "metadata": {},
     "output_type": "display_data"
    }
   ],
   "source": [
    "cumulative_PVE.plot(title='Cumulative Proportion of Variance Explained', marker='o')\n",
    "plt.axhline(y=threshold, color='r', linestyle='--', label=f'{threshold * 100:.0f}% Variance Threshold')\n",
    "plt.axhline(y=0.85, color='g', linestyle='--', label=f'{0.85 * 100:.0f}% Variance Threshold')  # Corrected y value\n",
    "plt.xlabel('Number of Principal Components')\n",
    "plt.ylabel('Cumulative Proportion of Variance Explained')\n",
    "plt.legend()\n",
    "plt.show()"
   ]
  },
  {
   "cell_type": "markdown",
   "id": "327f1a6e",
   "metadata": {},
   "source": [
    "#### Random Forest"
   ]
  },
  {
   "cell_type": "code",
   "execution_count": 167,
   "id": "21f8d676",
   "metadata": {},
   "outputs": [],
   "source": [
    "X_train, X_test, y_train, y_test = train_test_split(X, y, test_size=0.2, random_state=42)\n",
    "# rfc = RandomForestClassifier(n_estimators=15, max_depth=15) #default is to use sqrt\n",
    "# rfc.fit(X_train,y_train)\n",
    "# rfc.score(X_test,y_test)"
   ]
  },
  {
   "cell_type": "code",
   "execution_count": 168,
   "id": "6208eed4",
   "metadata": {},
   "outputs": [
    {
     "name": "stdout",
     "output_type": "stream",
     "text": [
      "Fitting 5 folds for each of 49 candidates, totalling 245 fits\n",
      "Best Parameters: {'max_depth': 30, 'n_estimators': 50}\n",
      "Best Cross-Validation Score: 0.92\n",
      "Test Accuracy of Best Model: 0.91\n"
     ]
    }
   ],
   "source": [
    "# Define the parameter grid\n",
    "param_grid = {\n",
    "    'n_estimators': [1, 10,25,50,75,100, 200],  # Number of trees in the forest\n",
    "    'max_depth': [5, 10, 15, 20, 30, 40, 50]  # Maximum depth of the trees\n",
    "}\n",
    "\n",
    "# Initialize the Random Forest Classifier\n",
    "rfc = RandomForestClassifier(random_state=42)\n",
    "\n",
    "# Perform Grid Search with Cross-Validation\n",
    "grid_search = GridSearchCV(estimator=rfc, param_grid=param_grid, cv=5, scoring='accuracy', verbose=1, n_jobs=-1)\n",
    "grid_search.fit(X_train, y_train)\n",
    "\n",
    "# Print the best parameters and the corresponding score\n",
    "print(f\"Best Parameters: {grid_search.best_params_}\")\n",
    "print(f\"Best Cross-Validation Score: {grid_search.best_score_:.2f}\")\n",
    "\n",
    "# Evaluate the best model on the test set\n",
    "best_rfc = grid_search.best_estimator_\n",
    "test_accuracy = best_rfc.score(X_test, y_test)\n",
    "print(f\"Test Accuracy of Best Model: {test_accuracy:.2f}\")"
   ]
  },
  {
   "cell_type": "code",
   "execution_count": 169,
   "id": "8dd968f1",
   "metadata": {},
   "outputs": [
    {
     "data": {
      "text/plain": [
       "Temperature                  0.189450\n",
       "Precipitation (%)            0.166503\n",
       "Visibility (km)              0.123754\n",
       "Atmospheric Pressure         0.117744\n",
       "UV Index                     0.107574\n",
       "Cloud Cover_clear            0.091116\n",
       "Humidity                     0.055652\n",
       "Season_Winter                0.042817\n",
       "Wind Speed                   0.031790\n",
       "Cloud Cover_overcast         0.021808\n",
       "Cloud Cover_partly cloudy    0.012949\n",
       "Location_coastal             0.012280\n",
       "Season_Summer                0.006189\n",
       "Cloud Cover_cloudy           0.005604\n",
       "Season_Autumn                0.004709\n",
       "Season_Spring                0.004531\n",
       "Location_mountain            0.002806\n",
       "Location_inland              0.002724\n",
       "dtype: float64"
      ]
     },
     "execution_count": 169,
     "metadata": {},
     "output_type": "execute_result"
    }
   ],
   "source": [
    "#Feature Importance\n",
    "features_importance = pd.Series(best_rfc.feature_importances_,index=X_train.columns)\n",
    "features_importance.sort_values(ascending=False)"
   ]
  },
  {
   "cell_type": "code",
   "execution_count": 170,
   "id": "2fa80b44",
   "metadata": {},
   "outputs": [
    {
     "data": {
      "text/plain": [
       "<Axes: >"
      ]
     },
     "execution_count": 170,
     "metadata": {},
     "output_type": "execute_result"
    },
    {
     "data": {
      "image/png": "[encoded data removed]",
      "text/plain": [
       "<Figure size 640x480 with 1 Axes>"
      ]
     },
     "metadata": {},
     "output_type": "display_data"
    }
   ],
   "source": [
    "non_zero_importances = features_importance[features_importance > 0]\n",
    "\n",
    "# Plot with horizontal bar chart\n",
    "non_zero_importances.sort_values().plot.barh(color='salmon')"
   ]
  },
  {
   "cell_type": "code",
   "execution_count": 171,
   "id": "b2d27703",
   "metadata": {},
   "outputs": [
    {
     "name": "stdout",
     "output_type": "stream",
     "text": [
      "Training Accuracy: 1.00\n",
      "Test Accuracy: 0.91\n"
     ]
    }
   ],
   "source": [
    "# Training and test accuracy\n",
    "train_accuracy = best_rfc.score(X_train, y_train)\n",
    "test_accuracy = best_rfc.score(X_test, y_test)\n",
    "\n",
    "print(f\"Training Accuracy: {train_accuracy:.2f}\")\n",
    "print(f\"Test Accuracy: {test_accuracy:.2f}\")"
   ]
  },
  {
   "cell_type": "code",
   "execution_count": null,
   "id": "760d6188",
   "metadata": {},
   "outputs": [
    {
     "data": {
      "text/plain": [
       "1.0"
      ]
     },
     "execution_count": 172,
     "metadata": {},
     "output_type": "execute_result"
    }
   ],
   "source": []
  }
 ],
 "metadata": {
  "kernelspec": {
   "display_name": "base",
   "language": "python",
   "name": "python3"
  },
  "language_info": {
   "codemirror_mode": {
    "name": "ipython",
    "version": 3
   },
   "file_extension": ".py",
   "mimetype": "text/x-python",
   "name": "python",
   "nbconvert_exporter": "python",
   "pygments_lexer": "ipython3",
   "version": "3.12.7"
  }
 },
 "nbformat": 4,
 "nbformat_minor": 5
}
