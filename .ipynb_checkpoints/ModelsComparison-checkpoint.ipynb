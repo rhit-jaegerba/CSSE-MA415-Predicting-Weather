{
 "cells": [
  {
   "cell_type": "code",
   "execution_count": 65,
   "id": "22c6aaec",
   "metadata": {},
   "outputs": [],
   "source": [
    "import pandas as pd\n",
    "import numpy as np\n",
    "import matplotlib.pyplot as plt\n",
    "from sklearn.model_selection import train_test_split, GridSearchCV\n",
    "from sklearn.metrics import accuracy_score\n",
    "from sklearn.neighbors import KNeighborsClassifier\n",
    "from sklearn.ensemble import RandomForestClassifier\n",
    "from sklearn.svm import SVC\n",
    "from sklearn.preprocessing import StandardScaler, OneHotEncoder\n",
    "from sklearn.compose import ColumnTransformer\n",
    "from sklearn.pipeline import Pipeline"
   ]
  },
  {
   "cell_type": "code",
   "execution_count": 66,
   "id": "dbdd684b",
   "metadata": {},
   "outputs": [],
   "source": [
    "# Load data\n",
    "df = pd.read_csv('weather_classification_data.csv')"
   ]
  },
  {
   "cell_type": "code",
   "execution_count": 67,
   "id": "bd3bc044",
   "metadata": {},
   "outputs": [],
   "source": [
    "# Split features and target\n",
    "X = df.drop(['Weather Type'], axis=1)\n",
    "y = df['Weather Type']"
   ]
  },
  {
   "cell_type": "code",
   "execution_count": 68,
   "id": "2c795177",
   "metadata": {},
   "outputs": [],
   "source": [
    "# Identify column types\n",
    "num_cols = X.select_dtypes(include='number').columns.tolist()\n",
    "cat_cols = X.select_dtypes(exclude='number').columns.tolist()"
   ]
  },
  {
   "cell_type": "code",
   "execution_count": 69,
   "id": "e1a2e38e",
   "metadata": {},
   "outputs": [],
   "source": [
    "# Train/test split\n",
    "X_train, X_test, y_train, y_test = train_test_split(X, y, test_size=0.2, random_state=42)\n",
    "\n",
    "results = {}"
   ]
  },
  {
   "cell_type": "code",
   "execution_count": 70,
   "id": "f446f667",
   "metadata": {},
   "outputs": [
    {
     "name": "stdout",
     "output_type": "stream",
     "text": [
      "Baseline Accuracy: 0.24\n"
     ]
    }
   ],
   "source": [
    "# Baseline Model\n",
    "mode_class = y_train.mode()[0]\n",
    "baseline_pred = [mode_class] * len(y_test)\n",
    "baseline_acc = accuracy_score(y_test, baseline_pred)\n",
    "results['Baseline'] = baseline_acc\n",
    "print(f\"Baseline Accuracy: {baseline_acc:.2f}\")"
   ]
  },
  {
   "cell_type": "code",
   "execution_count": 71,
   "id": "4e9f1705",
   "metadata": {},
   "outputs": [
    {
     "name": "stdout",
     "output_type": "stream",
     "text": [
      "KNN Accuracy: 0.90\n"
     ]
    }
   ],
   "source": [
    "# KNN Model (with preprocessing)\n",
    "knn_preprocessor = ColumnTransformer([\n",
    "    ('num', StandardScaler(), num_cols),\n",
    "    ('cat', OneHotEncoder(handle_unknown='ignore'), cat_cols)\n",
    "])\n",
    "knn_pipe = Pipeline([\n",
    "    ('preprocessor', knn_preprocessor),\n",
    "    ('knn', KNeighborsClassifier(n_neighbors=5))\n",
    "])\n",
    "knn_pipe.fit(X_train, y_train)\n",
    "knn_acc = knn_pipe.score(X_test, y_test)\n",
    "results['KNN'] = knn_acc\n",
    "print(f\"KNN Accuracy: {knn_acc:.2f}\")\n"
   ]
  },
  {
   "cell_type": "code",
   "execution_count": 72,
   "id": "f84040cb",
   "metadata": {},
   "outputs": [
    {
     "name": "stdout",
     "output_type": "stream",
     "text": [
      "Random Forest Accuracy: 0.91\n"
     ]
    }
   ],
   "source": [
    "# Random Forest Model (with preprocessing)\n",
    "rf_preprocessor = ColumnTransformer([\n",
    "    ('num', StandardScaler(), num_cols),\n",
    "    ('cat', OneHotEncoder(handle_unknown='ignore'), cat_cols)\n",
    "])\n",
    "rf_pipe = Pipeline([\n",
    "    ('preprocessor', rf_preprocessor),\n",
    "    ('rf', RandomForestClassifier(n_estimators=100, max_depth=15, random_state=42))\n",
    "])\n",
    "rf_pipe.fit(X_train, y_train)\n",
    "rf_acc = rf_pipe.score(X_test, y_test)\n",
    "results['Random Forest'] = rf_acc\n",
    "print(f\"Random Forest Accuracy: {rf_acc:.2f}\")"
   ]
  },
  {
   "cell_type": "code",
   "execution_count": 73,
   "id": "a924ed8a",
   "metadata": {},
   "outputs": [
    {
     "name": "stdout",
     "output_type": "stream",
     "text": [
      "SVM Accuracy: 0.91\n"
     ]
    }
   ],
   "source": [
    "# SVM Model (with preprocessing and grid search)\n",
    "svm_preprocessor = ColumnTransformer([\n",
    "    ('num', StandardScaler(), num_cols),\n",
    "    ('cat', OneHotEncoder(handle_unknown='ignore'), cat_cols)\n",
    "])\n",
    "svm_pipe = Pipeline([\n",
    "    ('preprocessor', svm_preprocessor),\n",
    "    ('svm', SVC())\n",
    "])\n",
    "svm_param_grid = {\n",
    "    'svm__C': [6.5],\n",
    "    'svm__kernel': ['rbf'],\n",
    "    'svm__gamma': ['scale']\n",
    "}\n",
    "svm_grid = GridSearchCV(svm_pipe, svm_param_grid, cv=3, n_jobs=-1)\n",
    "svm_grid.fit(X_train, y_train)\n",
    "svm_acc = svm_grid.score(X_test, y_test)\n",
    "results['SVM'] = svm_acc\n",
    "print(f\"SVM Accuracy: {svm_acc:.2f}\")"
   ]
  },
  {
   "cell_type": "code",
   "execution_count": 74,
   "id": "c058b9f5",
   "metadata": {},
   "outputs": [
    {
     "data": {
      "image/png": "[encoded data removed]",
      "text/plain": [
       "<Figure size 800x500 with 1 Axes>"
      ]
     },
     "metadata": {},
     "output_type": "display_data"
    }
   ],
   "source": [
    "# Bar chart of results\n",
    "plt.figure(figsize=(8, 5))\n",
    "plt.bar(results.keys(), results.values(), color=['gray', 'skyblue', 'orange', 'green'])\n",
    "plt.ylabel('Test Accuracy')\n",
    "plt.title('Model Comparison on Weather Classification')\n",
    "plt.ylim(0, 1)\n",
    "for i, v in enumerate(results.values()):\n",
    "    plt.text(i, v + 0.01, f\"{v:.2f}\", ha='center', fontweight='bold')\n",
    "plt.show()"
   ]
  },
  {
   "cell_type": "code",
   "execution_count": null,
   "id": "b56521ee",
   "metadata": {},
   "outputs": [
    {
     "data": {
      "text/html": [
       "<div>\n",
       "<style scoped>\n",
       "    .dataframe tbody tr th:only-of-type {\n",
       "        vertical-align: middle;\n",
       "    }\n",
       "\n",
       "    .dataframe tbody tr th {\n",
       "        vertical-align: top;\n",
       "    }\n",
       "\n",
       "    .dataframe thead th {\n",
       "        text-align: right;\n",
       "    }\n",
       "</style>\n",
       "<table border=\"1\" class=\"dataframe\">\n",
       "  <thead>\n",
       "    <tr style=\"text-align: right;\">\n",
       "      <th></th>\n",
       "      <th>Temperature</th>\n",
       "      <th>Humidity</th>\n",
       "      <th>Wind Speed</th>\n",
       "      <th>Precipitation (%)</th>\n",
       "      <th>Cloud Cover</th>\n",
       "      <th>Atmospheric Pressure</th>\n",
       "      <th>UV Index</th>\n",
       "      <th>Season</th>\n",
       "      <th>Visibility (km)</th>\n",
       "      <th>Location</th>\n",
       "      <th>Weather Type</th>\n",
       "    </tr>\n",
       "  </thead>\n",
       "  <tbody>\n",
       "    <tr>\n",
       "      <th>0</th>\n",
       "      <td>27.777778</td>\n",
       "      <td>79</td>\n",
       "      <td>4.62</td>\n",
       "      <td>0</td>\n",
       "      <td>partly cloudy</td>\n",
       "      <td>1014</td>\n",
       "      <td>0.0000</td>\n",
       "      <td>Spring</td>\n",
       "      <td>10.0</td>\n",
       "      <td>coastal</td>\n",
       "      <td>Cloudy</td>\n",
       "    </tr>\n",
       "    <tr>\n",
       "      <th>1</th>\n",
       "      <td>27.777778</td>\n",
       "      <td>77</td>\n",
       "      <td>4.32</td>\n",
       "      <td>0</td>\n",
       "      <td>partly cloudy</td>\n",
       "      <td>1014</td>\n",
       "      <td>0.3033</td>\n",
       "      <td>Spring</td>\n",
       "      <td>10.0</td>\n",
       "      <td>coastal</td>\n",
       "      <td>Sunny</td>\n",
       "    </tr>\n",
       "    <tr>\n",
       "      <th>2</th>\n",
       "      <td>27.222222</td>\n",
       "      <td>74</td>\n",
       "      <td>4.20</td>\n",
       "      <td>0</td>\n",
       "      <td>partly cloudy</td>\n",
       "      <td>1014</td>\n",
       "      <td>1.3210</td>\n",
       "      <td>Spring</td>\n",
       "      <td>10.0</td>\n",
       "      <td>coastal</td>\n",
       "      <td>Sunny</td>\n",
       "    </tr>\n",
       "    <tr>\n",
       "      <th>3</th>\n",
       "      <td>26.666667</td>\n",
       "      <td>72</td>\n",
       "      <td>3.95</td>\n",
       "      <td>0</td>\n",
       "      <td>partly cloudy</td>\n",
       "      <td>1015</td>\n",
       "      <td>3.2487</td>\n",
       "      <td>Spring</td>\n",
       "      <td>10.0</td>\n",
       "      <td>coastal</td>\n",
       "      <td>Sunny</td>\n",
       "    </tr>\n",
       "    <tr>\n",
       "      <th>4</th>\n",
       "      <td>25.555556</td>\n",
       "      <td>76</td>\n",
       "      <td>4.01</td>\n",
       "      <td>0</td>\n",
       "      <td>clear</td>\n",
       "      <td>1014</td>\n",
       "      <td>6.0570</td>\n",
       "      <td>Spring</td>\n",
       "      <td>10.0</td>\n",
       "      <td>coastal</td>\n",
       "      <td>Sunny</td>\n",
       "    </tr>\n",
       "    <tr>\n",
       "      <th>5</th>\n",
       "      <td>25.000000</td>\n",
       "      <td>76</td>\n",
       "      <td>3.82</td>\n",
       "      <td>0</td>\n",
       "      <td>partly cloudy</td>\n",
       "      <td>1014</td>\n",
       "      <td>8.6599</td>\n",
       "      <td>Spring</td>\n",
       "      <td>10.0</td>\n",
       "      <td>coastal</td>\n",
       "      <td>Sunny</td>\n",
       "    </tr>\n",
       "    <tr>\n",
       "      <th>6</th>\n",
       "      <td>24.444444</td>\n",
       "      <td>79</td>\n",
       "      <td>3.27</td>\n",
       "      <td>0</td>\n",
       "      <td>overcast</td>\n",
       "      <td>1013</td>\n",
       "      <td>10.5484</td>\n",
       "      <td>Spring</td>\n",
       "      <td>10.0</td>\n",
       "      <td>coastal</td>\n",
       "      <td>Sunny</td>\n",
       "    </tr>\n",
       "    <tr>\n",
       "      <th>7</th>\n",
       "      <td>23.888889</td>\n",
       "      <td>79</td>\n",
       "      <td>3.64</td>\n",
       "      <td>0</td>\n",
       "      <td>partly cloudy</td>\n",
       "      <td>1013</td>\n",
       "      <td>10.8126</td>\n",
       "      <td>Spring</td>\n",
       "      <td>10.0</td>\n",
       "      <td>coastal</td>\n",
       "      <td>Sunny</td>\n",
       "    </tr>\n",
       "    <tr>\n",
       "      <th>8</th>\n",
       "      <td>23.888889</td>\n",
       "      <td>79</td>\n",
       "      <td>3.38</td>\n",
       "      <td>0</td>\n",
       "      <td>partly cloudy</td>\n",
       "      <td>1013</td>\n",
       "      <td>9.5014</td>\n",
       "      <td>Spring</td>\n",
       "      <td>10.0</td>\n",
       "      <td>coastal</td>\n",
       "      <td>Sunny</td>\n",
       "    </tr>\n",
       "    <tr>\n",
       "      <th>9</th>\n",
       "      <td>23.888889</td>\n",
       "      <td>79</td>\n",
       "      <td>3.11</td>\n",
       "      <td>1</td>\n",
       "      <td>partly cloudy</td>\n",
       "      <td>1014</td>\n",
       "      <td>6.8986</td>\n",
       "      <td>Spring</td>\n",
       "      <td>10.0</td>\n",
       "      <td>coastal</td>\n",
       "      <td>Sunny</td>\n",
       "    </tr>\n",
       "  </tbody>\n",
       "</table>\n",
       "</div>"
      ],
      "text/plain": [
       "   Temperature  Humidity  Wind Speed  Precipitation (%)    Cloud Cover  \\\n",
       "0    27.777778        79        4.62                  0  partly cloudy   \n",
       "1    27.777778        77        4.32                  0  partly cloudy   \n",
       "2    27.222222        74        4.20                  0  partly cloudy   \n",
       "3    26.666667        72        3.95                  0  partly cloudy   \n",
       "4    25.555556        76        4.01                  0          clear   \n",
       "5    25.000000        76        3.82                  0  partly cloudy   \n",
       "6    24.444444        79        3.27                  0       overcast   \n",
       "7    23.888889        79        3.64                  0  partly cloudy   \n",
       "8    23.888889        79        3.38                  0  partly cloudy   \n",
       "9    23.888889        79        3.11                  1  partly cloudy   \n",
       "\n",
       "   Atmospheric Pressure  UV Index  Season  Visibility (km) Location  \\\n",
       "0                  1014    0.0000  Spring             10.0  coastal   \n",
       "1                  1014    0.3033  Spring             10.0  coastal   \n",
       "2                  1014    1.3210  Spring             10.0  coastal   \n",
       "3                  1015    3.2487  Spring             10.0  coastal   \n",
       "4                  1014    6.0570  Spring             10.0  coastal   \n",
       "5                  1014    8.6599  Spring             10.0  coastal   \n",
       "6                  1013   10.5484  Spring             10.0  coastal   \n",
       "7                  1013   10.8126  Spring             10.0  coastal   \n",
       "8                  1013    9.5014  Spring             10.0  coastal   \n",
       "9                  1014    6.8986  Spring             10.0  coastal   \n",
       "\n",
       "  Weather Type  \n",
       "0       Cloudy  \n",
       "1        Sunny  \n",
       "2        Sunny  \n",
       "3        Sunny  \n",
       "4        Sunny  \n",
       "5        Sunny  \n",
       "6        Sunny  \n",
       "7        Sunny  \n",
       "8        Sunny  \n",
       "9        Sunny  "
      ]
     },
     "execution_count": 79,
     "metadata": {},
     "output_type": "execute_result"
    }
   ],
   "source": [
    "df = pd.read_csv('live_weather_classification_data.csv')\n",
    "df.head()"
   ]
  },
  {
   "cell_type": "code",
   "execution_count": null,
   "id": "238ed19a",
   "metadata": {},
   "outputs": [],
   "source": [
    "# Split features and target\n",
    "X = df.drop(['Weather Type'], axis=1)\n",
    "y = df['Weather Type']\n",
    "\n"
   ]
  },
  {
   "cell_type": "code",
   "execution_count": 77,
   "id": "3400d00e",
   "metadata": {},
   "outputs": [
    {
     "data": {
      "image/png": "[encoded data removed]",
      "text/plain": [
       "<Figure size 800x500 with 1 Axes>"
      ]
     },
     "metadata": {},
     "output_type": "display_data"
    }
   ],
   "source": [
    "from sklearn.metrics import accuracy_score\n",
    "\n",
    "# Baseline Model\n",
    "mode_class_real = y.mode()[0]\n",
    "baseline_pred_real = [mode_class_real] * len(y)\n",
    "\n",
    "\n",
    "# Apply trained models to the real world data in X\n",
    "knn_pred_real = knn_pipe.predict(X)\n",
    "rf_pred_real = rf_pipe.predict(X)\n",
    "# Predict with SVM\n",
    "svm_pred_real = svm_grid.predict(X)\n",
    "\n",
    "# Calculate accuracy for each model\n",
    "baseline_acc_real = accuracy_score(y, baseline_pred_real)\n",
    "knn_acc_real = accuracy_score(y, knn_pred_real)\n",
    "rf_acc_real = accuracy_score(y, rf_pred_real)\n",
    "svm_acc_real = accuracy_score(y, svm_pred_real)\n",
    "\n",
    "# Show bar chart\n",
    "model_names = ['Baseline', 'KNN', 'Random Forest', 'SVM']\n",
    "accuracies = [baseline_acc_real, knn_acc_real, rf_acc_real, svm_acc_real]\n",
    "plt.figure(figsize=(8, 5))\n",
    "plt.bar(model_names, accuracies, color=['gray', 'skyblue', 'orange', 'green'])\n",
    "plt.ylabel('Accuracy')\n",
    "plt.title('Model Accuracy on Real World Weather Data')\n",
    "plt.ylim(0, 1)\n",
    "for i, v in enumerate(accuracies):\n",
    "    plt.text(i, v + 0.01, f\"{v:.2f}\", ha='center', fontweight='bold')\n",
    "plt.show()"
   ]
  }
 ],
 "metadata": {
  "kernelspec": {
   "display_name": "base",
   "language": "python",
   "name": "python3"
  },
  "language_info": {
   "codemirror_mode": {
    "name": "ipython",
    "version": 3
   },
   "file_extension": ".py",
   "mimetype": "text/x-python",
   "name": "python",
   "nbconvert_exporter": "python",
   "pygments_lexer": "ipython3",
   "version": "3.12.7"
  }
 },
 "nbformat": 4,
 "nbformat_minor": 5
}
