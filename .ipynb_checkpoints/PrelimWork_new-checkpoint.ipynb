{
 "cells": [
  {
   "cell_type": "markdown",
   "id": "606a39fe",
   "metadata": {},
   "source": [
    "# Prelim Work on Weather Classification/Prediction (New)"
   ]
  },
  {
   "cell_type": "code",
   "execution_count": 2,
   "id": "dd756b36",
   "metadata": {},
   "outputs": [],
   "source": [
    "# Import necessary libraries\n",
    "import pandas as pd\n",
    "import numpy as np\n",
    "import matplotlib.pyplot as plt\n",
    "import seaborn as sns"
   ]
  },
  {
   "cell_type": "code",
   "execution_count": 3,
   "id": "a97aebbb",
   "metadata": {},
   "outputs": [
    {
     "data": {
      "text/plain": [
       "(3654, 165)"
      ]
     },
     "execution_count": 3,
     "metadata": {},
     "output_type": "execute_result"
    }
   ],
   "source": [
    "df = pd.read_csv('weather_prediction_dataset.csv')\n",
    "\n",
    "df.shape"
   ]
  },
  {
   "cell_type": "markdown",
   "id": "6eaa6c81",
   "metadata": {},
   "source": [
    "The weather prediction dataset (https://www.kaggle.com/datasets/thedevastator/weather-prediction) contains weather data collected from 18 different locations in Europe everyday from 2000 to 2010."
   ]
  },
  {
   "cell_type": "markdown",
   "id": "dc0af8ff",
   "metadata": {},
   "source": [
    "### Basic Exploration"
   ]
  },
  {
   "cell_type": "code",
   "execution_count": 6,
   "id": "c01e22a5",
   "metadata": {},
   "outputs": [
    {
     "name": "stdout",
     "output_type": "stream",
     "text": [
      "<class 'pandas.core.frame.DataFrame'>\n",
      "RangeIndex: 3654 entries, 0 to 3653\n",
      "Columns: 165 entries, DATE to TOURS_temp_max\n",
      "dtypes: float64(150), int64(15)\n",
      "memory usage: 4.6 MB\n"
     ]
    }
   ],
   "source": [
    "df.info()"
   ]
  },
  {
   "cell_type": "markdown",
   "id": "2a837335",
   "metadata": {},
   "source": [
    "There are 3654 entries in the dataset with 165 columns. There is a large number of columns because the dataset has data from all 18 weather stations. There are only numberical features in this dataset.\n",
    "\n",
    "Most cities have the same features (i.e. mean temperature) but some cities lack certain features, such as hours of sunshine in Malmo. According to metadata.txt of the dataset:\n",
    "\n",
    "\"\"\"\n",
    "\n",
    "While all selected locations provide data for the variables ‘mean temperature’, ‘max temperature’, and ‘min temperature’, we also included data for the variables 'cloud_cover', 'wind_speed', 'wind_gust', 'humidity', 'pressure', 'global_radiation', 'precipitation', 'sunshine' wherever those were available.\n",
    "\n",
    "After collecting the data, very basic cleaning of the data was performed.\n",
    "\n",
    "...\n",
    "\n",
    "[Units for measuring each weather feature is as follows.]\n",
    "\n",
    "CC   : cloud cover in oktas\n",
    "\n",
    "DD   : wind direction in degrees\n",
    "\n",
    "FG   : wind speed in 1 m/s\n",
    "\n",
    "FX   : wind gust in 1 m/s\n",
    "\n",
    "HU   : humidity in fraction of 100 %\n",
    "\n",
    "PP   : sea level pressure in 1000 hPa\n",
    "\n",
    "QQ   : global radiation in 100 W/m2\n",
    "\n",
    "RR   : precipitation amount in 10 mm\n",
    "\n",
    "SS   : sunshine in 1 Hours\n",
    "\n",
    "TG   : mean temperature in 1 &#176;C\n",
    "\n",
    "TN   : minimum temperature in 1 &#176;C\n",
    "\n",
    "TX   : maximum temperature in 1 &#176;C\n",
    "\n",
    "\"\"\""
   ]
  },
  {
   "cell_type": "code",
   "execution_count": 8,
   "id": "2f30bd7e",
   "metadata": {},
   "outputs": [
    {
     "data": {
      "text/html": [
       "<div>\n",
       "<style scoped>\n",
       "    .dataframe tbody tr th:only-of-type {\n",
       "        vertical-align: middle;\n",
       "    }\n",
       "\n",
       "    .dataframe tbody tr th {\n",
       "        vertical-align: top;\n",
       "    }\n",
       "\n",
       "    .dataframe thead th {\n",
       "        text-align: right;\n",
       "    }\n",
       "</style>\n",
       "<table border=\"1\" class=\"dataframe\">\n",
       "  <thead>\n",
       "    <tr style=\"text-align: right;\">\n",
       "      <th></th>\n",
       "      <th>DATE</th>\n",
       "      <th>MONTH</th>\n",
       "      <th>BASEL_cloud_cover</th>\n",
       "      <th>BASEL_humidity</th>\n",
       "      <th>BASEL_pressure</th>\n",
       "      <th>BASEL_global_radiation</th>\n",
       "      <th>BASEL_precipitation</th>\n",
       "      <th>BASEL_sunshine</th>\n",
       "      <th>BASEL_temp_mean</th>\n",
       "      <th>BASEL_temp_min</th>\n",
       "      <th>...</th>\n",
       "      <th>STOCKHOLM_temp_min</th>\n",
       "      <th>STOCKHOLM_temp_max</th>\n",
       "      <th>TOURS_wind_speed</th>\n",
       "      <th>TOURS_humidity</th>\n",
       "      <th>TOURS_pressure</th>\n",
       "      <th>TOURS_global_radiation</th>\n",
       "      <th>TOURS_precipitation</th>\n",
       "      <th>TOURS_temp_mean</th>\n",
       "      <th>TOURS_temp_min</th>\n",
       "      <th>TOURS_temp_max</th>\n",
       "    </tr>\n",
       "  </thead>\n",
       "  <tbody>\n",
       "    <tr>\n",
       "      <th>0</th>\n",
       "      <td>20000101</td>\n",
       "      <td>1</td>\n",
       "      <td>8</td>\n",
       "      <td>0.89</td>\n",
       "      <td>1.0286</td>\n",
       "      <td>0.20</td>\n",
       "      <td>0.03</td>\n",
       "      <td>0.0</td>\n",
       "      <td>2.9</td>\n",
       "      <td>1.6</td>\n",
       "      <td>...</td>\n",
       "      <td>-9.3</td>\n",
       "      <td>0.7</td>\n",
       "      <td>1.6</td>\n",
       "      <td>0.97</td>\n",
       "      <td>1.0275</td>\n",
       "      <td>0.25</td>\n",
       "      <td>0.04</td>\n",
       "      <td>8.5</td>\n",
       "      <td>7.2</td>\n",
       "      <td>9.8</td>\n",
       "    </tr>\n",
       "    <tr>\n",
       "      <th>1</th>\n",
       "      <td>20000102</td>\n",
       "      <td>1</td>\n",
       "      <td>8</td>\n",
       "      <td>0.87</td>\n",
       "      <td>1.0318</td>\n",
       "      <td>0.25</td>\n",
       "      <td>0.00</td>\n",
       "      <td>0.0</td>\n",
       "      <td>3.6</td>\n",
       "      <td>2.7</td>\n",
       "      <td>...</td>\n",
       "      <td>0.5</td>\n",
       "      <td>2.0</td>\n",
       "      <td>2.0</td>\n",
       "      <td>0.99</td>\n",
       "      <td>1.0293</td>\n",
       "      <td>0.17</td>\n",
       "      <td>0.16</td>\n",
       "      <td>7.9</td>\n",
       "      <td>6.6</td>\n",
       "      <td>9.2</td>\n",
       "    </tr>\n",
       "    <tr>\n",
       "      <th>2</th>\n",
       "      <td>20000103</td>\n",
       "      <td>1</td>\n",
       "      <td>5</td>\n",
       "      <td>0.81</td>\n",
       "      <td>1.0314</td>\n",
       "      <td>0.50</td>\n",
       "      <td>0.00</td>\n",
       "      <td>3.7</td>\n",
       "      <td>2.2</td>\n",
       "      <td>0.1</td>\n",
       "      <td>...</td>\n",
       "      <td>-1.0</td>\n",
       "      <td>2.8</td>\n",
       "      <td>3.4</td>\n",
       "      <td>0.91</td>\n",
       "      <td>1.0267</td>\n",
       "      <td>0.27</td>\n",
       "      <td>0.00</td>\n",
       "      <td>8.1</td>\n",
       "      <td>6.6</td>\n",
       "      <td>9.6</td>\n",
       "    </tr>\n",
       "  </tbody>\n",
       "</table>\n",
       "<p>3 rows × 165 columns</p>\n",
       "</div>"
      ],
      "text/plain": [
       "       DATE  MONTH  BASEL_cloud_cover  BASEL_humidity  BASEL_pressure  \\\n",
       "0  20000101      1                  8            0.89          1.0286   \n",
       "1  20000102      1                  8            0.87          1.0318   \n",
       "2  20000103      1                  5            0.81          1.0314   \n",
       "\n",
       "   BASEL_global_radiation  BASEL_precipitation  BASEL_sunshine  \\\n",
       "0                    0.20                 0.03             0.0   \n",
       "1                    0.25                 0.00             0.0   \n",
       "2                    0.50                 0.00             3.7   \n",
       "\n",
       "   BASEL_temp_mean  BASEL_temp_min  ...  STOCKHOLM_temp_min  \\\n",
       "0              2.9             1.6  ...                -9.3   \n",
       "1              3.6             2.7  ...                 0.5   \n",
       "2              2.2             0.1  ...                -1.0   \n",
       "\n",
       "   STOCKHOLM_temp_max  TOURS_wind_speed  TOURS_humidity  TOURS_pressure  \\\n",
       "0                 0.7               1.6            0.97          1.0275   \n",
       "1                 2.0               2.0            0.99          1.0293   \n",
       "2                 2.8               3.4            0.91          1.0267   \n",
       "\n",
       "   TOURS_global_radiation  TOURS_precipitation  TOURS_temp_mean  \\\n",
       "0                    0.25                 0.04              8.5   \n",
       "1                    0.17                 0.16              7.9   \n",
       "2                    0.27                 0.00              8.1   \n",
       "\n",
       "   TOURS_temp_min  TOURS_temp_max  \n",
       "0             7.2             9.8  \n",
       "1             6.6             9.2  \n",
       "2             6.6             9.6  \n",
       "\n",
       "[3 rows x 165 columns]"
      ]
     },
     "execution_count": 8,
     "metadata": {},
     "output_type": "execute_result"
    }
   ],
   "source": [
    "df.head(3)"
   ]
  },
  {
   "cell_type": "code",
   "execution_count": 9,
   "id": "8fa113a5",
   "metadata": {},
   "outputs": [
    {
     "data": {
      "text/html": [
       "<div>\n",
       "<style scoped>\n",
       "    .dataframe tbody tr th:only-of-type {\n",
       "        vertical-align: middle;\n",
       "    }\n",
       "\n",
       "    .dataframe tbody tr th {\n",
       "        vertical-align: top;\n",
       "    }\n",
       "\n",
       "    .dataframe thead th {\n",
       "        text-align: right;\n",
       "    }\n",
       "</style>\n",
       "<table border=\"1\" class=\"dataframe\">\n",
       "  <thead>\n",
       "    <tr style=\"text-align: right;\">\n",
       "      <th></th>\n",
       "      <th>DATE</th>\n",
       "      <th>MONTH</th>\n",
       "      <th>BASEL_cloud_cover</th>\n",
       "      <th>BASEL_humidity</th>\n",
       "      <th>BASEL_pressure</th>\n",
       "      <th>BASEL_global_radiation</th>\n",
       "      <th>BASEL_precipitation</th>\n",
       "      <th>BASEL_sunshine</th>\n",
       "      <th>BASEL_temp_mean</th>\n",
       "      <th>BASEL_temp_min</th>\n",
       "      <th>...</th>\n",
       "      <th>STOCKHOLM_temp_min</th>\n",
       "      <th>STOCKHOLM_temp_max</th>\n",
       "      <th>TOURS_wind_speed</th>\n",
       "      <th>TOURS_humidity</th>\n",
       "      <th>TOURS_pressure</th>\n",
       "      <th>TOURS_global_radiation</th>\n",
       "      <th>TOURS_precipitation</th>\n",
       "      <th>TOURS_temp_mean</th>\n",
       "      <th>TOURS_temp_min</th>\n",
       "      <th>TOURS_temp_max</th>\n",
       "    </tr>\n",
       "  </thead>\n",
       "  <tbody>\n",
       "    <tr>\n",
       "      <th>3651</th>\n",
       "      <td>20091230</td>\n",
       "      <td>12</td>\n",
       "      <td>8</td>\n",
       "      <td>0.92</td>\n",
       "      <td>0.9979</td>\n",
       "      <td>0.07</td>\n",
       "      <td>1.54</td>\n",
       "      <td>0.0</td>\n",
       "      <td>8.5</td>\n",
       "      <td>7.5</td>\n",
       "      <td>...</td>\n",
       "      <td>-12.5</td>\n",
       "      <td>-7.4</td>\n",
       "      <td>3.8</td>\n",
       "      <td>0.88</td>\n",
       "      <td>0.9939</td>\n",
       "      <td>0.24</td>\n",
       "      <td>1.00</td>\n",
       "      <td>10.0</td>\n",
       "      <td>8.7</td>\n",
       "      <td>11.3</td>\n",
       "    </tr>\n",
       "    <tr>\n",
       "      <th>3652</th>\n",
       "      <td>20091231</td>\n",
       "      <td>12</td>\n",
       "      <td>7</td>\n",
       "      <td>0.93</td>\n",
       "      <td>0.9958</td>\n",
       "      <td>0.17</td>\n",
       "      <td>0.57</td>\n",
       "      <td>0.1</td>\n",
       "      <td>6.6</td>\n",
       "      <td>4.3</td>\n",
       "      <td>...</td>\n",
       "      <td>-9.3</td>\n",
       "      <td>-6.5</td>\n",
       "      <td>4.2</td>\n",
       "      <td>0.88</td>\n",
       "      <td>0.9933</td>\n",
       "      <td>0.58</td>\n",
       "      <td>0.02</td>\n",
       "      <td>8.5</td>\n",
       "      <td>6.2</td>\n",
       "      <td>10.9</td>\n",
       "    </tr>\n",
       "    <tr>\n",
       "      <th>3653</th>\n",
       "      <td>20100101</td>\n",
       "      <td>1</td>\n",
       "      <td>8</td>\n",
       "      <td>0.93</td>\n",
       "      <td>0.9965</td>\n",
       "      <td>0.08</td>\n",
       "      <td>0.56</td>\n",
       "      <td>0.0</td>\n",
       "      <td>2.9</td>\n",
       "      <td>-0.2</td>\n",
       "      <td>...</td>\n",
       "      <td>-8.8</td>\n",
       "      <td>-7.0</td>\n",
       "      <td>3.4</td>\n",
       "      <td>0.86</td>\n",
       "      <td>1.0040</td>\n",
       "      <td>0.11</td>\n",
       "      <td>0.00</td>\n",
       "      <td>0.5</td>\n",
       "      <td>-0.7</td>\n",
       "      <td>1.8</td>\n",
       "    </tr>\n",
       "  </tbody>\n",
       "</table>\n",
       "<p>3 rows × 165 columns</p>\n",
       "</div>"
      ],
      "text/plain": [
       "          DATE  MONTH  BASEL_cloud_cover  BASEL_humidity  BASEL_pressure  \\\n",
       "3651  20091230     12                  8            0.92          0.9979   \n",
       "3652  20091231     12                  7            0.93          0.9958   \n",
       "3653  20100101      1                  8            0.93          0.9965   \n",
       "\n",
       "      BASEL_global_radiation  BASEL_precipitation  BASEL_sunshine  \\\n",
       "3651                    0.07                 1.54             0.0   \n",
       "3652                    0.17                 0.57             0.1   \n",
       "3653                    0.08                 0.56             0.0   \n",
       "\n",
       "      BASEL_temp_mean  BASEL_temp_min  ...  STOCKHOLM_temp_min  \\\n",
       "3651              8.5             7.5  ...               -12.5   \n",
       "3652              6.6             4.3  ...                -9.3   \n",
       "3653              2.9            -0.2  ...                -8.8   \n",
       "\n",
       "      STOCKHOLM_temp_max  TOURS_wind_speed  TOURS_humidity  TOURS_pressure  \\\n",
       "3651                -7.4               3.8            0.88          0.9939   \n",
       "3652                -6.5               4.2            0.88          0.9933   \n",
       "3653                -7.0               3.4            0.86          1.0040   \n",
       "\n",
       "      TOURS_global_radiation  TOURS_precipitation  TOURS_temp_mean  \\\n",
       "3651                    0.24                 1.00             10.0   \n",
       "3652                    0.58                 0.02              8.5   \n",
       "3653                    0.11                 0.00              0.5   \n",
       "\n",
       "      TOURS_temp_min  TOURS_temp_max  \n",
       "3651             8.7            11.3  \n",
       "3652             6.2            10.9  \n",
       "3653            -0.7             1.8  \n",
       "\n",
       "[3 rows x 165 columns]"
      ]
     },
     "execution_count": 9,
     "metadata": {},
     "output_type": "execute_result"
    }
   ],
   "source": [
    "df.tail(3)"
   ]
  },
  {
   "cell_type": "markdown",
   "id": "8ec31d79",
   "metadata": {},
   "source": [
    "##### For project purposes, we will only look at data from Basel, Switzerland."
   ]
  },
  {
   "cell_type": "markdown",
   "id": "45ceee48",
   "metadata": {},
   "source": [
    "To see data just from the city of Basel..."
   ]
  },
  {
   "cell_type": "code",
   "execution_count": 12,
   "id": "3a25a2bc",
   "metadata": {},
   "outputs": [
    {
     "data": {
      "text/html": [
       "<div>\n",
       "<style scoped>\n",
       "    .dataframe tbody tr th:only-of-type {\n",
       "        vertical-align: middle;\n",
       "    }\n",
       "\n",
       "    .dataframe tbody tr th {\n",
       "        vertical-align: top;\n",
       "    }\n",
       "\n",
       "    .dataframe thead th {\n",
       "        text-align: right;\n",
       "    }\n",
       "</style>\n",
       "<table border=\"1\" class=\"dataframe\">\n",
       "  <thead>\n",
       "    <tr style=\"text-align: right;\">\n",
       "      <th></th>\n",
       "      <th>DATE</th>\n",
       "      <th>MONTH</th>\n",
       "      <th>cloud_cover</th>\n",
       "      <th>humidity</th>\n",
       "      <th>pressure</th>\n",
       "      <th>global_radiation</th>\n",
       "      <th>precipitation</th>\n",
       "      <th>sunshine</th>\n",
       "      <th>temp_mean</th>\n",
       "      <th>temp_min</th>\n",
       "      <th>temp_max</th>\n",
       "    </tr>\n",
       "  </thead>\n",
       "  <tbody>\n",
       "    <tr>\n",
       "      <th>0</th>\n",
       "      <td>20000101</td>\n",
       "      <td>1</td>\n",
       "      <td>8</td>\n",
       "      <td>0.89</td>\n",
       "      <td>1.0286</td>\n",
       "      <td>0.20</td>\n",
       "      <td>0.03</td>\n",
       "      <td>0.0</td>\n",
       "      <td>2.9</td>\n",
       "      <td>1.6</td>\n",
       "      <td>3.9</td>\n",
       "    </tr>\n",
       "    <tr>\n",
       "      <th>1</th>\n",
       "      <td>20000102</td>\n",
       "      <td>1</td>\n",
       "      <td>8</td>\n",
       "      <td>0.87</td>\n",
       "      <td>1.0318</td>\n",
       "      <td>0.25</td>\n",
       "      <td>0.00</td>\n",
       "      <td>0.0</td>\n",
       "      <td>3.6</td>\n",
       "      <td>2.7</td>\n",
       "      <td>4.8</td>\n",
       "    </tr>\n",
       "    <tr>\n",
       "      <th>2</th>\n",
       "      <td>20000103</td>\n",
       "      <td>1</td>\n",
       "      <td>5</td>\n",
       "      <td>0.81</td>\n",
       "      <td>1.0314</td>\n",
       "      <td>0.50</td>\n",
       "      <td>0.00</td>\n",
       "      <td>3.7</td>\n",
       "      <td>2.2</td>\n",
       "      <td>0.1</td>\n",
       "      <td>4.8</td>\n",
       "    </tr>\n",
       "    <tr>\n",
       "      <th>3</th>\n",
       "      <td>20000104</td>\n",
       "      <td>1</td>\n",
       "      <td>7</td>\n",
       "      <td>0.79</td>\n",
       "      <td>1.0262</td>\n",
       "      <td>0.63</td>\n",
       "      <td>0.35</td>\n",
       "      <td>6.9</td>\n",
       "      <td>3.9</td>\n",
       "      <td>0.5</td>\n",
       "      <td>7.5</td>\n",
       "    </tr>\n",
       "    <tr>\n",
       "      <th>4</th>\n",
       "      <td>20000105</td>\n",
       "      <td>1</td>\n",
       "      <td>5</td>\n",
       "      <td>0.90</td>\n",
       "      <td>1.0246</td>\n",
       "      <td>0.51</td>\n",
       "      <td>0.07</td>\n",
       "      <td>3.7</td>\n",
       "      <td>6.0</td>\n",
       "      <td>3.8</td>\n",
       "      <td>8.6</td>\n",
       "    </tr>\n",
       "  </tbody>\n",
       "</table>\n",
       "</div>"
      ],
      "text/plain": [
       "       DATE  MONTH  cloud_cover  humidity  pressure  global_radiation  \\\n",
       "0  20000101      1            8      0.89    1.0286              0.20   \n",
       "1  20000102      1            8      0.87    1.0318              0.25   \n",
       "2  20000103      1            5      0.81    1.0314              0.50   \n",
       "3  20000104      1            7      0.79    1.0262              0.63   \n",
       "4  20000105      1            5      0.90    1.0246              0.51   \n",
       "\n",
       "   precipitation  sunshine  temp_mean  temp_min  temp_max  \n",
       "0           0.03       0.0        2.9       1.6       3.9  \n",
       "1           0.00       0.0        3.6       2.7       4.8  \n",
       "2           0.00       3.7        2.2       0.1       4.8  \n",
       "3           0.35       6.9        3.9       0.5       7.5  \n",
       "4           0.07       3.7        6.0       3.8       8.6  "
      ]
     },
     "execution_count": 12,
     "metadata": {},
     "output_type": "execute_result"
    }
   ],
   "source": [
    "# Source: ChatGPT\n",
    "# Prompt: I am working on a new weather prediction dataset. It has data collected from 18 weather stations. \n",
    "# Each column is labeled with which city/station the data came from, i.e. BASEL_sunshine for sunshine hours recorded in Basel. \n",
    "# Given dataframe df that stores the dataset, generate dataframe basel that has only data from basel.\n",
    "\n",
    "# Select BASEL columns plus 'date' and 'time'\n",
    "basel = df.loc[:, df.columns.str.startswith('BASEL_') | df.columns.isin(['DATE', 'MONTH'])]\n",
    "\n",
    "# Remove 'BASEL_' prefix from relevant columns\n",
    "basel.columns = [col.replace('BASEL_', '') if col.startswith('BASEL_') else col for col in basel.columns]\n",
    "\n",
    "basel.head()"
   ]
  },
  {
   "cell_type": "code",
   "execution_count": 13,
   "id": "ae652dad",
   "metadata": {},
   "outputs": [
    {
     "data": {
      "text/plain": [
       "count    3654.000000\n",
       "mean        0.234849\n",
       "std         0.536267\n",
       "min         0.000000\n",
       "25%         0.000000\n",
       "50%         0.000000\n",
       "75%         0.210000\n",
       "max         7.570000\n",
       "Name: precipitation, dtype: float64"
      ]
     },
     "execution_count": 13,
     "metadata": {},
     "output_type": "execute_result"
    }
   ],
   "source": [
    "basel['precipitation'].describe()"
   ]
  },
  {
   "cell_type": "markdown",
   "id": "678a8924",
   "metadata": {},
   "source": [
    "Precipitation is a useful target we can try to learn via classification, regression, or prediction. It will help people plan and prepare for possible rain and even flash floods."
   ]
  },
  {
   "cell_type": "code",
   "execution_count": 15,
   "id": "843ec6ea",
   "metadata": {},
   "outputs": [
    {
     "data": {
      "image/png": "[encoded data removed]",
      "text/plain": [
       "<Figure size 640x480 with 1 Axes>"
      ]
     },
     "metadata": {},
     "output_type": "display_data"
    }
   ],
   "source": [
    "# Source: ChatGPT\n",
    "# Prompt: Create a distribution plot for the column\n",
    "\n",
    "sns.histplot(basel['precipitation'], bins=30)\n",
    "plt.title('Distribution of Precipitation')\n",
    "plt.xlabel('Precipitation in cm')\n",
    "plt.ylabel('Frequency')\n",
    "plt.show()"
   ]
  },
  {
   "cell_type": "code",
   "execution_count": 16,
   "id": "d9def41f",
   "metadata": {},
   "outputs": [
    {
     "name": "stdout",
     "output_type": "stream",
     "text": [
      "0\n"
     ]
    }
   ],
   "source": [
    "# Check for missing values in the dataset\n",
    "print(basel.isnull().sum().sum())"
   ]
  },
  {
   "cell_type": "code",
   "execution_count": 17,
   "id": "10e51281",
   "metadata": {},
   "outputs": [
    {
     "name": "stdout",
     "output_type": "stream",
     "text": [
      "               DATE        MONTH  cloud_cover     humidity     pressure  \\\n",
      "count  3.654000e+03  3654.000000  3654.000000  3654.000000  3654.000000   \n",
      "mean   2.004568e+07     6.520799     5.418446     0.745107     1.017876   \n",
      "std    2.874287e+04     3.450083     2.325497     0.107788     0.007962   \n",
      "min    2.000010e+07     1.000000     0.000000     0.380000     0.985600   \n",
      "25%    2.002070e+07     4.000000     4.000000     0.670000     1.013300   \n",
      "50%    2.004567e+07     7.000000     6.000000     0.760000     1.017700   \n",
      "75%    2.007070e+07    10.000000     7.000000     0.830000     1.022700   \n",
      "max    2.010010e+07    12.000000     8.000000     0.980000     1.040800   \n",
      "\n",
      "       global_radiation  precipitation     sunshine    temp_mean     temp_min  \\\n",
      "count       3654.000000    3654.000000  3654.000000  3654.000000  3654.000000   \n",
      "mean           1.330380       0.234849     4.661193    11.022797     6.989135   \n",
      "std            0.935348       0.536267     4.330112     7.414754     6.653356   \n",
      "min            0.050000       0.000000     0.000000    -9.300000   -16.000000   \n",
      "25%            0.530000       0.000000     0.500000     5.300000     2.000000   \n",
      "50%            1.110000       0.000000     3.600000    11.400000     7.300000   \n",
      "75%            2.060000       0.210000     8.000000    16.900000    12.400000   \n",
      "max            3.550000       7.570000    15.300000    29.000000    20.800000   \n",
      "\n",
      "          temp_max  \n",
      "count  3654.000000  \n",
      "mean     15.536782  \n",
      "std       8.721323  \n",
      "min      -5.700000  \n",
      "25%       8.700000  \n",
      "50%      15.800000  \n",
      "75%      22.300000  \n",
      "max      38.600000  \n"
     ]
    }
   ],
   "source": [
    "print(basel.describe())"
   ]
  },
  {
   "cell_type": "code",
   "execution_count": 18,
   "id": "40f1265b",
   "metadata": {},
   "outputs": [
    {
     "name": "stdout",
     "output_type": "stream",
     "text": [
      "PERPIGNAN     16.04\n",
      "DRESDEN       15.80\n",
      "MONTELIMAR    15.40\n",
      "MUENCHEN       9.79\n",
      "LJUBLJANA      8.64\n",
      "MALMO          7.69\n",
      "BASEL          7.57\n",
      "BUDAPEST       6.96\n",
      "TOURS          6.20\n",
      "SONNBLICK      5.95\n",
      "MAASTRICHT     5.87\n",
      "DUSSELDORF     5.74\n",
      "OSLO           5.60\n",
      "KASSEL         5.42\n",
      "STOCKHOLM      4.30\n",
      "DE             4.25\n",
      "HEATHROW       3.66\n",
      "dtype: float64\n"
     ]
    }
   ],
   "source": [
    "# Source: ChatGPT\n",
    "# Prompt: I want to see the max precipitation values for all cities\n",
    "\n",
    "# Filter columns that contain 'precipitation'\n",
    "precip_cols = [col for col in df.columns if 'precipitation' in col.lower()]\n",
    "\n",
    "# Create a DataFrame with just those columns\n",
    "precip_data = df[precip_cols]\n",
    "\n",
    "# Extract city names by removing the '_precipitation' part\n",
    "city_names = [col.split('_')[0] for col in precip_cols]\n",
    "\n",
    "# Get max precipitation values for each city\n",
    "max_precip = precip_data.max()\n",
    "max_precip.index = city_names  # Rename the index to just the city\n",
    "\n",
    "# Display result\n",
    "print(max_precip.sort_values(ascending=False))"
   ]
  },
  {
   "cell_type": "code",
   "execution_count": 19,
   "id": "d90b63f2-1a5c-4954-b1f2-a75cb8d739a9",
   "metadata": {
    "scrolled": true
   },
   "outputs": [
    {
     "data": {
      "text/html": [
       "<div>\n",
       "<style scoped>\n",
       "    .dataframe tbody tr th:only-of-type {\n",
       "        vertical-align: middle;\n",
       "    }\n",
       "\n",
       "    .dataframe tbody tr th {\n",
       "        vertical-align: top;\n",
       "    }\n",
       "\n",
       "    .dataframe thead th {\n",
       "        text-align: right;\n",
       "    }\n",
       "</style>\n",
       "<table border=\"1\" class=\"dataframe\">\n",
       "  <thead>\n",
       "    <tr style=\"text-align: right;\">\n",
       "      <th></th>\n",
       "      <th>DATE</th>\n",
       "      <th>MONTH</th>\n",
       "      <th>cloud_cover</th>\n",
       "      <th>humidity</th>\n",
       "      <th>pressure</th>\n",
       "      <th>global_radiation</th>\n",
       "      <th>precipitation</th>\n",
       "      <th>sunshine</th>\n",
       "      <th>temp_mean</th>\n",
       "      <th>temp_min</th>\n",
       "      <th>temp_max</th>\n",
       "    </tr>\n",
       "  </thead>\n",
       "  <tbody>\n",
       "    <tr>\n",
       "      <th>2776</th>\n",
       "      <td>20070808</td>\n",
       "      <td>8</td>\n",
       "      <td>8</td>\n",
       "      <td>0.89</td>\n",
       "      <td>1.0136</td>\n",
       "      <td>0.59</td>\n",
       "      <td>7.57</td>\n",
       "      <td>0.0</td>\n",
       "      <td>14.9</td>\n",
       "      <td>13.8</td>\n",
       "      <td>17.0</td>\n",
       "    </tr>\n",
       "    <tr>\n",
       "      <th>3178</th>\n",
       "      <td>20080913</td>\n",
       "      <td>9</td>\n",
       "      <td>8</td>\n",
       "      <td>0.93</td>\n",
       "      <td>1.0136</td>\n",
       "      <td>0.18</td>\n",
       "      <td>7.11</td>\n",
       "      <td>0.0</td>\n",
       "      <td>13.0</td>\n",
       "      <td>11.8</td>\n",
       "      <td>13.5</td>\n",
       "    </tr>\n",
       "    <tr>\n",
       "      <th>2451</th>\n",
       "      <td>20060917</td>\n",
       "      <td>9</td>\n",
       "      <td>8</td>\n",
       "      <td>0.92</td>\n",
       "      <td>1.0103</td>\n",
       "      <td>0.17</td>\n",
       "      <td>5.78</td>\n",
       "      <td>0.0</td>\n",
       "      <td>16.4</td>\n",
       "      <td>15.5</td>\n",
       "      <td>17.3</td>\n",
       "    </tr>\n",
       "    <tr>\n",
       "      <th>2254</th>\n",
       "      <td>20060304</td>\n",
       "      <td>3</td>\n",
       "      <td>8</td>\n",
       "      <td>0.94</td>\n",
       "      <td>0.9992</td>\n",
       "      <td>0.23</td>\n",
       "      <td>5.36</td>\n",
       "      <td>0.0</td>\n",
       "      <td>0.2</td>\n",
       "      <td>-1.6</td>\n",
       "      <td>4.8</td>\n",
       "    </tr>\n",
       "    <tr>\n",
       "      <th>3114</th>\n",
       "      <td>20080711</td>\n",
       "      <td>7</td>\n",
       "      <td>4</td>\n",
       "      <td>0.73</td>\n",
       "      <td>1.0112</td>\n",
       "      <td>2.38</td>\n",
       "      <td>4.77</td>\n",
       "      <td>8.5</td>\n",
       "      <td>21.1</td>\n",
       "      <td>17.4</td>\n",
       "      <td>28.5</td>\n",
       "    </tr>\n",
       "  </tbody>\n",
       "</table>\n",
       "</div>"
      ],
      "text/plain": [
       "          DATE  MONTH  cloud_cover  humidity  pressure  global_radiation  \\\n",
       "2776  20070808      8            8      0.89    1.0136              0.59   \n",
       "3178  20080913      9            8      0.93    1.0136              0.18   \n",
       "2451  20060917      9            8      0.92    1.0103              0.17   \n",
       "2254  20060304      3            8      0.94    0.9992              0.23   \n",
       "3114  20080711      7            4      0.73    1.0112              2.38   \n",
       "\n",
       "      precipitation  sunshine  temp_mean  temp_min  temp_max  \n",
       "2776           7.57       0.0       14.9      13.8      17.0  \n",
       "3178           7.11       0.0       13.0      11.8      13.5  \n",
       "2451           5.78       0.0       16.4      15.5      17.3  \n",
       "2254           5.36       0.0        0.2      -1.6       4.8  \n",
       "3114           4.77       8.5       21.1      17.4      28.5  "
      ]
     },
     "execution_count": 19,
     "metadata": {},
     "output_type": "execute_result"
    }
   ],
   "source": [
    "basel.sort_values(by='precipitation', ascending=False).head()"
   ]
  },
  {
   "cell_type": "code",
   "execution_count": 20,
   "id": "a69bf303",
   "metadata": {},
   "outputs": [
    {
     "data": {
      "image/png": "[encoded data removed]",
      "text/plain": [
       "<Figure size 1600x800 with 8 Axes>"
      ]
     },
     "metadata": {},
     "output_type": "display_data"
    }
   ],
   "source": [
    "#Boxplots of all numeric features in the dataset\n",
    "\n",
    "# Create subplots\n",
    "fig, axes = plt.subplots(nrows=2, ncols=4, figsize=(16, 8))  # Adjust rows/cols as needed\n",
    "axes = axes.flatten()\n",
    "\n",
    "# Plot each boxplot\n",
    "for i, column in enumerate(basel.columns):\n",
    "    if i < len(axes):  # Ensure we don't exceed the number of axes\n",
    "        basel.boxplot(column=[column], ax=axes[i])\n",
    "        axes[i].set_title(column)\n",
    "\n",
    "# Hide any unused subplots\n",
    "for j in range(len(basel.columns), len(axes)):\n",
    "    fig.delaxes(axes[j])\n",
    "\n",
    "# Adjust layout\n",
    "plt.tight_layout()\n",
    "plt.show()"
   ]
  },
  {
   "cell_type": "code",
   "execution_count": 35,
   "id": "36e52265",
   "metadata": {},
   "outputs": [
    {
     "name": "stdout",
     "output_type": "stream",
     "text": [
      "Baseline Mean: 11.02\n",
      "Mean Absolute Error (MAE): 6.23\n",
      "Mean Squared Error (MSE): 54.96\n",
      "R² Score: 0.00\n"
     ]
    }
   ],
   "source": [
    "from sklearn.metrics import mean_absolute_error, mean_squared_error, r2_score\n",
    "\n",
    "# Calculate the mean (or median) of the target variable\n",
    "mean_value = basel['temp_mean'].mean()  # For baseline regression\n",
    "\n",
    "# Predict the mean for all entries\n",
    "baseline_predictions = [mean_value] * len(basel)\n",
    "\n",
    "# Calculate regression metrics\n",
    "mae = mean_absolute_error(basel['temp_mean'], baseline_predictions)\n",
    "mse = mean_squared_error(basel['temp_mean'], baseline_predictions)\n",
    "r2 = r2_score(basel['temp_mean'], baseline_predictions)\n",
    "\n",
    "print(f\"Baseline Mean: {mean_value:.2f}\")\n",
    "print(f\"Mean Absolute Error (MAE): {mae:.2f}\")\n",
    "print(f\"Mean Squared Error (MSE): {mse:.2f}\")\n",
    "print(f\"R² Score: {r2:.2f}\")"
   ]
  },
  {
   "cell_type": "markdown",
   "id": "50e9969d",
   "metadata": {},
   "source": [
    "The baseline MAE and MSE sets a standard for our classification models. If our model error is below the baseline, it is not a good model and is worse than simply predicting the mean."
   ]
  },
  {
   "cell_type": "markdown",
   "id": "ae666573-d5a9-436a-84cf-5411b22bda90",
   "metadata": {},
   "source": [
    "# TODO: EVERYTHING UNDER THIS CELL IS A COPY FROM THE ORIGINAL PRELIM WORK NOTEBOOK"
   ]
  },
  {
   "cell_type": "markdown",
   "id": "de367de9",
   "metadata": {},
   "source": [
    "### Correlation and Additional Plots"
   ]
  },
  {
   "cell_type": "code",
   "execution_count": null,
   "id": "b74eaa5c",
   "metadata": {},
   "outputs": [],
   "source": [
    "from pandas.plotting import scatter_matrix\n",
    "\n",
    "# Create scatter matrix\n",
    "numeric_cols = df.select_dtypes(include=['number'])\n",
    "scatter_matrix(numeric_cols, figsize=(12, 12), diagonal='hist', alpha=0.5)\n",
    "\n",
    "plt.tight_layout()\n",
    "plt.show()"
   ]
  },
  {
   "cell_type": "markdown",
   "id": "6d13a056",
   "metadata": {},
   "source": [
    "There are a few things that can be inferred from these plots:\n",
    "* UV index is discrete. Note the \"lines\" that mark the various UV index levels.\n",
    "* The \"blockiness\" of the plots further exemplify the \"fakeness\" of the data: \n",
    "1. Take a look at the visibility vs precipitation graph. There is a block of data points with visibility 5~10 km when precipitation is below 50%, and there is another block of data points with visibility 0~5 km when precipication is above 50%.\n",
    "2. Likewise, several plots have \"step-function-like\" behavior, i.e. humidity vs precipitation.\n",
    "3. Take a look at the atmospheric pressure, where outliers are evenly distributed along the 800-1200 range instead of displaying normality."
   ]
  },
  {
   "cell_type": "code",
   "execution_count": null,
   "id": "a83aa219",
   "metadata": {},
   "outputs": [],
   "source": [
    "# Compute correlation only on numeric columns\n",
    "corr_matrix = df.corr(numeric_only=True)\n",
    "\n",
    "fig, ax = plt.subplots(figsize=(6, 5))\n",
    "cax = ax.matshow(corr_matrix, cmap='coolwarm')\n",
    "\n",
    "# Add colorbar and ticks\n",
    "plt.colorbar(cax)\n",
    "ax.set_xticks(range(len(corr_matrix.columns)))\n",
    "ax.set_yticks(range(len(corr_matrix.columns)))\n",
    "ax.set_xticklabels(corr_matrix.columns, rotation=90, fontsize=7)\n",
    "ax.set_yticklabels(corr_matrix.columns, fontsize=7)\n",
    "\n",
    "plt.title('Correlation Matrix', pad=10, fontsize=10)\n",
    "plt.tight_layout(pad=1.0)\n",
    "plt.show()"
   ]
  },
  {
   "cell_type": "markdown",
   "id": "446ebb3c",
   "metadata": {},
   "source": [
    "The correlational factors make sense. For example, humidity is expected to be high when it is raining (precipitation), which gives it a positive correlation (red). Likewise, visibility is expected to be high when it is not, which gives it a negative correlation (blue)."
   ]
  },
  {
   "cell_type": "code",
   "execution_count": null,
   "id": "0fd39cf9",
   "metadata": {},
   "outputs": [],
   "source": [
    "# Define numerical columns\n",
    "numerical_cols = df.select_dtypes(include=['number']).columns\n",
    "\n",
    "# Loop through and plot\n",
    "for num_col in numerical_cols:\n",
    "    plt.figure(figsize=(4, 2))\n",
    "    df.boxplot(column=num_col, by=\"Weather Type\")\n",
    "    plt.title(f'{num_col} by \"Weather Type\"')\n",
    "    plt.suptitle('')  # suppress default title\n",
    "    plt.xlabel(\"Weather Type\")\n",
    "    plt.ylabel(num_col)\n",
    "    plt.xticks(rotation=45)\n",
    "    plt.tight_layout()\n",
    "    plt.show()"
   ]
  },
  {
   "cell_type": "markdown",
   "id": "6d4c96d4",
   "metadata": {},
   "source": [
    "These boxplots show the correlation between weather type and numerical features. For example, rainy and snowy weather provide much less visibility than cloudy and sunny days."
   ]
  },
  {
   "cell_type": "code",
   "execution_count": null,
   "id": "5063c41c",
   "metadata": {},
   "outputs": [],
   "source": [
    "# Define categorical columns\n",
    "categorical_features = df.select_dtypes(include=['object']).columns\n",
    "\n",
    "for cat_col in categorical_features:\n",
    "    if cat_col in df.columns:\n",
    "        # Create a cross-tabulation of counts\n",
    "        ct = pd.crosstab(df[cat_col], df['Weather Type'])\n",
    "\n",
    "        # Plot as grouped bar chart\n",
    "        ct.plot(kind='bar', figsize=(6, 4))\n",
    "        plt.title(f'{cat_col} vs Weather Type')\n",
    "        plt.xlabel(cat_col)\n",
    "        plt.ylabel('Count')\n",
    "        plt.xticks(rotation=30, ha='right')\n",
    "        plt.tight_layout()\n",
    "        plt.show()"
   ]
  },
  {
   "cell_type": "markdown",
   "id": "0c151a2b",
   "metadata": {},
   "source": [
    "These bar graphs show the relationship between the weather types and categorical features. For example, sunny days are expected to be clear of clouds."
   ]
  },
  {
   "cell_type": "markdown",
   "id": "8aba3f88-28ec-49a6-a17a-0184499b54a7",
   "metadata": {},
   "source": [
    "### Simple Estimator"
   ]
  },
  {
   "cell_type": "markdown",
   "id": "0c8172d3-ac0e-4534-9022-dd94835bcfac",
   "metadata": {},
   "source": [
    "For our simple estimator we will use a KNN Classifier with three features to attempt to beat the baseline error rate"
   ]
  },
  {
   "cell_type": "code",
   "execution_count": null,
   "id": "9e38a0f1-0061-44fc-9ef5-85ed81fb2521",
   "metadata": {},
   "outputs": [],
   "source": [
    "from sklearn.neighbors import KNeighborsClassifier\n",
    "from sklearn.model_selection import train_test_split\n",
    "\n",
    "X = df[['Temperature', 'Wind Speed', 'Precipitation (%)']]\n",
    "y = df['Weather Type']\n",
    "X_train, X_test, y_train, y_test = train_test_split(X, y, test_size=0.2, random_state=273)"
   ]
  },
  {
   "cell_type": "code",
   "execution_count": null,
   "id": "962ce2ac-149f-464c-97d9-84542f927878",
   "metadata": {},
   "outputs": [],
   "source": [
    "knn = KNeighborsClassifier(n_neighbors=5)\n",
    "knn.fit(X_train, y_train)"
   ]
  },
  {
   "cell_type": "code",
   "execution_count": null,
   "id": "60e1da69-6d1f-48b8-89a8-d137e3b7cbff",
   "metadata": {},
   "outputs": [],
   "source": [
    "y_pred = knn.predict(X_test)\n",
    "\n",
    "simple_accuracy = knn.score(X_test, y_test)\n",
    "simple_error = 1 - baseline_accuracy\n",
    "\n",
    "print(f\"Simple Estimator Accuracy: {simple_accuracy:.2f}\")\n",
    "print(f\"Simple Estimator Error Rate: {simple_error:.2f}\")"
   ]
  },
  {
   "cell_type": "markdown",
   "id": "aa1f2a9b-fba5-48d3-9505-7a0226c6b9da",
   "metadata": {},
   "source": [
    "The simple estimator greatly improves upon the baseline accuracy of 0.25. "
   ]
  },
  {
   "cell_type": "code",
   "execution_count": null,
   "id": "865d0606-7c77-48c9-b5e1-96239437ed9b",
   "metadata": {},
   "outputs": [],
   "source": []
  }
 ],
 "metadata": {
  "kernelspec": {
   "display_name": "Python [conda env:base] *",
   "language": "python",
   "name": "conda-base-py"
  },
  "language_info": {
   "codemirror_mode": {
    "name": "ipython",
    "version": 3
   },
   "file_extension": ".py",
   "mimetype": "text/x-python",
   "name": "python",
   "nbconvert_exporter": "python",
   "pygments_lexer": "ipython3",
   "version": "3.12.7"
  }
 },
 "nbformat": 4,
 "nbformat_minor": 5
}
